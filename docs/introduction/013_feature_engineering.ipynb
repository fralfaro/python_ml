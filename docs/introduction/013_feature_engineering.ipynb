{
 "cells": [
  {
   "cell_type": "markdown",
   "id": "bf43f107",
   "metadata": {},
   "source": [
    "# Introducción\n",
    "\n",
    "\n",
    "Las secciones anteriores describen las ideas fundamentales del aprendizaje automático, pero todos los ejemplos asumen que tiene datos numéricos en un formato ordenado, `[n_samples, n_features]`. En el mundo real, los datos rara vez vienen en esa forma. Con esto en mente, uno de los pasos más importantes en el uso del aprendizaje automático en la práctica es la **ingeniería de características** (*Feature Engineering*): es decir, tomar cualquier información que tenga sobre su problema y convertirla en números que pueda usar para construir su matriz de características.\n",
    "\n",
    "En esta sección, cubriremos algunos ejemplos comunes de tareas de *Feature Engineering*.\n"
   ]
  }
 ],
 "metadata": {
  "kernelspec": {
   "display_name": "Python 3 (ipykernel)",
   "language": "python",
   "name": "python3"
  },
  "language_info": {
   "codemirror_mode": {
    "name": "ipython",
    "version": 3
   },
   "file_extension": ".py",
   "mimetype": "text/x-python",
   "name": "python",
   "nbconvert_exporter": "python",
   "pygments_lexer": "ipython3",
   "version": "3.8.10"
  }
 },
 "nbformat": 4,
 "nbformat_minor": 5
}
