{
 "cells": [
  {
   "cell_type": "markdown",
   "id": "cffc10f4",
   "metadata": {},
   "source": [
    "# Conceptos Básicos ML"
   ]
  },
  {
   "cell_type": "markdown",
   "id": "457888a6",
   "metadata": {},
   "source": [
    "## Representación de Datos\n",
    "\n",
    "Una tabla es una cuadrícula bidimensional de datos, en la que las filas representan elementos individuales del conjunto de datos y las columnas representan cantidades relacionadas con cada uno de estos elementos. \n",
    "\n",
    "Por ejemplo, consideremos el conjunto de datos **Iris**, analizado por **Ronald Fisher** en 1936. "
   ]
  },
  {
   "cell_type": "code",
   "execution_count": 18,
   "id": "49364d7e",
   "metadata": {},
   "outputs": [
    {
     "data": {
      "text/html": [
       "<div>\n",
       "<style scoped>\n",
       "    .dataframe tbody tr th:only-of-type {\n",
       "        vertical-align: middle;\n",
       "    }\n",
       "\n",
       "    .dataframe tbody tr th {\n",
       "        vertical-align: top;\n",
       "    }\n",
       "\n",
       "    .dataframe thead th {\n",
       "        text-align: right;\n",
       "    }\n",
       "</style>\n",
       "<table border=\"1\" class=\"dataframe\">\n",
       "  <thead>\n",
       "    <tr style=\"text-align: right;\">\n",
       "      <th></th>\n",
       "      <th>sepal_length</th>\n",
       "      <th>sepal_width</th>\n",
       "      <th>petal_length</th>\n",
       "      <th>petal_width</th>\n",
       "      <th>species</th>\n",
       "    </tr>\n",
       "  </thead>\n",
       "  <tbody>\n",
       "    <tr>\n",
       "      <th>0</th>\n",
       "      <td>5.1</td>\n",
       "      <td>3.5</td>\n",
       "      <td>1.4</td>\n",
       "      <td>0.2</td>\n",
       "      <td>setosa</td>\n",
       "    </tr>\n",
       "    <tr>\n",
       "      <th>1</th>\n",
       "      <td>4.9</td>\n",
       "      <td>3.0</td>\n",
       "      <td>1.4</td>\n",
       "      <td>0.2</td>\n",
       "      <td>setosa</td>\n",
       "    </tr>\n",
       "    <tr>\n",
       "      <th>2</th>\n",
       "      <td>4.7</td>\n",
       "      <td>3.2</td>\n",
       "      <td>1.3</td>\n",
       "      <td>0.2</td>\n",
       "      <td>setosa</td>\n",
       "    </tr>\n",
       "    <tr>\n",
       "      <th>3</th>\n",
       "      <td>4.6</td>\n",
       "      <td>3.1</td>\n",
       "      <td>1.5</td>\n",
       "      <td>0.2</td>\n",
       "      <td>setosa</td>\n",
       "    </tr>\n",
       "    <tr>\n",
       "      <th>4</th>\n",
       "      <td>5.0</td>\n",
       "      <td>3.6</td>\n",
       "      <td>1.4</td>\n",
       "      <td>0.2</td>\n",
       "      <td>setosa</td>\n",
       "    </tr>\n",
       "  </tbody>\n",
       "</table>\n",
       "</div>"
      ],
      "text/plain": [
       "   sepal_length  sepal_width  petal_length  petal_width species\n",
       "0           5.1          3.5           1.4          0.2  setosa\n",
       "1           4.9          3.0           1.4          0.2  setosa\n",
       "2           4.7          3.2           1.3          0.2  setosa\n",
       "3           4.6          3.1           1.5          0.2  setosa\n",
       "4           5.0          3.6           1.4          0.2  setosa"
      ]
     },
     "execution_count": 18,
     "metadata": {},
     "output_type": "execute_result"
    }
   ],
   "source": [
    "import seaborn as sns\n",
    "iris = sns.load_dataset('iris')\n",
    "iris.head()"
   ]
  },
  {
   "cell_type": "markdown",
   "id": "dbd4ad10",
   "metadata": {},
   "source": [
    "Aquí, cada fila de los datos se refiere a una única flor observada y el número de filas es el número total de flores en el conjunto de datos. En general, nos referiremos a las filas de la matriz como muestras (`samples`), y el número de filas como `n_samples`.\n",
    "\n",
    "De manera similar, cada columna de los datos se refiere a una pieza particular de información que describe cada muestra. En general, nos referiremos a las columnas de la matriz como características (features), y el número de columnas como `n_features`."
   ]
  },
  {
   "cell_type": "markdown",
   "id": "281d808c",
   "metadata": {},
   "source": [
    "### Matriz de características y Arreglo de Etiquetas \n",
    "\n",
    "<img src=\"https://raw.githubusercontent.com/jakevdp/PythonDataScienceHandbook/master/notebooks/figures/05.02-samples-features.png\"  align=\"center\"  />\n"
   ]
  },
  {
   "cell_type": "markdown",
   "id": "75759fd9",
   "metadata": {},
   "source": [
    "#### Matriz de características \n",
    "La **matriz de características** (features matrix en inglés) es una representación de los datos de entrada en un problema de aprendizaje automático. Es una matriz bidimensional (con forma `[n_samples, n_features]`), en la que las filas representan las muestras o instancias de los datos, y las columnas representan las características o atributos que describen cada muestra. \n",
    "\n",
    "Las características (es decir, columnas) siempre se refieren a las observaciones distintas que describen cada muestra de manera cuantitativa. Las características generalmente tienen valores reales, pero en algunos casos pueden ser valores booleanos o discretos.\n",
    "\n",
    "Por convención, esta matriz de características a menudo se almacena en una variable llamada `X`.\n"
   ]
  },
  {
   "cell_type": "code",
   "execution_count": 2,
   "id": "34ea1dd5",
   "metadata": {},
   "outputs": [
    {
     "data": {
      "text/html": [
       "<div>\n",
       "<style scoped>\n",
       "    .dataframe tbody tr th:only-of-type {\n",
       "        vertical-align: middle;\n",
       "    }\n",
       "\n",
       "    .dataframe tbody tr th {\n",
       "        vertical-align: top;\n",
       "    }\n",
       "\n",
       "    .dataframe thead th {\n",
       "        text-align: right;\n",
       "    }\n",
       "</style>\n",
       "<table border=\"1\" class=\"dataframe\">\n",
       "  <thead>\n",
       "    <tr style=\"text-align: right;\">\n",
       "      <th></th>\n",
       "      <th>sepal_length</th>\n",
       "      <th>sepal_width</th>\n",
       "      <th>petal_length</th>\n",
       "      <th>petal_width</th>\n",
       "    </tr>\n",
       "  </thead>\n",
       "  <tbody>\n",
       "    <tr>\n",
       "      <th>0</th>\n",
       "      <td>5.1</td>\n",
       "      <td>3.5</td>\n",
       "      <td>1.4</td>\n",
       "      <td>0.2</td>\n",
       "    </tr>\n",
       "    <tr>\n",
       "      <th>1</th>\n",
       "      <td>4.9</td>\n",
       "      <td>3.0</td>\n",
       "      <td>1.4</td>\n",
       "      <td>0.2</td>\n",
       "    </tr>\n",
       "    <tr>\n",
       "      <th>2</th>\n",
       "      <td>4.7</td>\n",
       "      <td>3.2</td>\n",
       "      <td>1.3</td>\n",
       "      <td>0.2</td>\n",
       "    </tr>\n",
       "    <tr>\n",
       "      <th>3</th>\n",
       "      <td>4.6</td>\n",
       "      <td>3.1</td>\n",
       "      <td>1.5</td>\n",
       "      <td>0.2</td>\n",
       "    </tr>\n",
       "    <tr>\n",
       "      <th>4</th>\n",
       "      <td>5.0</td>\n",
       "      <td>3.6</td>\n",
       "      <td>1.4</td>\n",
       "      <td>0.2</td>\n",
       "    </tr>\n",
       "    <tr>\n",
       "      <th>...</th>\n",
       "      <td>...</td>\n",
       "      <td>...</td>\n",
       "      <td>...</td>\n",
       "      <td>...</td>\n",
       "    </tr>\n",
       "    <tr>\n",
       "      <th>145</th>\n",
       "      <td>6.7</td>\n",
       "      <td>3.0</td>\n",
       "      <td>5.2</td>\n",
       "      <td>2.3</td>\n",
       "    </tr>\n",
       "    <tr>\n",
       "      <th>146</th>\n",
       "      <td>6.3</td>\n",
       "      <td>2.5</td>\n",
       "      <td>5.0</td>\n",
       "      <td>1.9</td>\n",
       "    </tr>\n",
       "    <tr>\n",
       "      <th>147</th>\n",
       "      <td>6.5</td>\n",
       "      <td>3.0</td>\n",
       "      <td>5.2</td>\n",
       "      <td>2.0</td>\n",
       "    </tr>\n",
       "    <tr>\n",
       "      <th>148</th>\n",
       "      <td>6.2</td>\n",
       "      <td>3.4</td>\n",
       "      <td>5.4</td>\n",
       "      <td>2.3</td>\n",
       "    </tr>\n",
       "    <tr>\n",
       "      <th>149</th>\n",
       "      <td>5.9</td>\n",
       "      <td>3.0</td>\n",
       "      <td>5.1</td>\n",
       "      <td>1.8</td>\n",
       "    </tr>\n",
       "  </tbody>\n",
       "</table>\n",
       "<p>150 rows × 4 columns</p>\n",
       "</div>"
      ],
      "text/plain": [
       "     sepal_length  sepal_width  petal_length  petal_width\n",
       "0             5.1          3.5           1.4          0.2\n",
       "1             4.9          3.0           1.4          0.2\n",
       "2             4.7          3.2           1.3          0.2\n",
       "3             4.6          3.1           1.5          0.2\n",
       "4             5.0          3.6           1.4          0.2\n",
       "..            ...          ...           ...          ...\n",
       "145           6.7          3.0           5.2          2.3\n",
       "146           6.3          2.5           5.0          1.9\n",
       "147           6.5          3.0           5.2          2.0\n",
       "148           6.2          3.4           5.4          2.3\n",
       "149           5.9          3.0           5.1          1.8\n",
       "\n",
       "[150 rows x 4 columns]"
      ]
     },
     "execution_count": 2,
     "metadata": {},
     "output_type": "execute_result"
    }
   ],
   "source": [
    "# features matrix\n",
    "X = iris.drop('species',axis=1)\n",
    "X"
   ]
  },
  {
   "cell_type": "markdown",
   "id": "c581741a",
   "metadata": {},
   "source": [
    "#### Arreglo de Etiquetas\n",
    "\n",
    "Además de la matriz de características `X`, generalmente también trabajamos con un **arreglo de etiquetas** (target array), que por convención generalmente llamamos `y`. El target array suele ser unidimensional, con una longitud de `n_samples`, y generalmente se encuentra en un arreglo NumPy o una Serie de Pandas.\n",
    "\n",
    "El target array puede tener valores numéricos continuos o clases/etiquetas discretas. Aunque algunos estimadores de Scikit-Learn manejan varios valores de target en forma de una matriz de objetivos bidimensional `[n_samples, n_targets]`, principalmente trabajaremos con el caso común de un target array unidimensional."
   ]
  },
  {
   "cell_type": "code",
   "execution_count": 3,
   "id": "2eda7f6f",
   "metadata": {},
   "outputs": [
    {
     "data": {
      "text/plain": [
       "0         setosa\n",
       "1         setosa\n",
       "2         setosa\n",
       "3         setosa\n",
       "4         setosa\n",
       "         ...    \n",
       "145    virginica\n",
       "146    virginica\n",
       "147    virginica\n",
       "148    virginica\n",
       "149    virginica\n",
       "Name: species, Length: 150, dtype: object"
      ]
     },
     "execution_count": 3,
     "metadata": {},
     "output_type": "execute_result"
    }
   ],
   "source": [
    "# target\n",
    "y = iris['species']\n",
    "y"
   ]
  },
  {
   "cell_type": "markdown",
   "id": "2a964e24",
   "metadata": {},
   "source": [
    "### Conjunto de Entrenamiento y Prueba\n",
    "\n",
    "El **conjunto de entrenamiento** (train set) y el **conjunto de prueba** (test set) son dos conjuntos de datos distintos que se utilizan en el aprendizaje automático para entrenar y evaluar un modelo.\n",
    "<img src=\"https://static.javatpoint.com/tutorial/machine-learning/images/train-and-test-datasets-in-machine-learning.png\"  align=\"center\"  />"
   ]
  },
  {
   "cell_type": "markdown",
   "id": "7a33475b",
   "metadata": {},
   "source": [
    "#### Definición\n",
    "\n",
    "\n",
    "\n",
    "* El **conjunto de entrenamiento** es un subconjunto de los datos de entrada que se utiliza para ajustar los parámetros del modelo y encontrar la mejor función que pueda predecir la variable de salida a partir de las variables de entrada. En otras palabras, se utiliza para entrenar el modelo.\n",
    "\n",
    "* El **conjunto de prueba** es otro subconjunto de los datos de entrada que se utiliza para evaluar el rendimiento del modelo. Este conjunto de datos no se utiliza en el entrenamiento del modelo, sino que se utiliza únicamente para evaluar el rendimiento del modelo en datos nuevos y no vistos durante el entrenamiento.\n",
    "\n",
    "<img src=\"https://developers.google.com/static/machine-learning/crash-course/images/TrainingDataVsTestData.svg\"  \n",
    "      width = \"700\" align=\"center\"  />"
   ]
  },
  {
   "cell_type": "markdown",
   "id": "0c2cbc36",
   "metadata": {},
   "source": [
    "La función `train_test_split` de Scikit-learn es una herramienta útil para dividir un conjunto de datos en conjuntos de entrenamiento y prueba.\n",
    "\n",
    "La función `train_test_split` toma como entrada los datos que se van a dividir, junto con los valores correspondientes de la variable de respuesta. La función también permite ajustar la proporción de datos que se asignarán al conjunto de entrenamiento y al conjunto de prueba. Por defecto, la proporción es del 75% para el conjunto de entrenamiento y el 25% para el conjunto de prueba.\n",
    "\n",
    "Para esto, podemos utilizar la función `train_test_split`:"
   ]
  },
  {
   "cell_type": "code",
   "execution_count": 26,
   "id": "9b9e09a4",
   "metadata": {},
   "outputs": [],
   "source": [
    "from sklearn.model_selection import train_test_split\n",
    "\n",
    "# separar informacion\n",
    "X_train, X_test, y_train, y_test = train_test_split(X, y,test_size=0.4, random_state=42)"
   ]
  },
  {
   "cell_type": "code",
   "execution_count": 27,
   "id": "857027f2",
   "metadata": {},
   "outputs": [
    {
     "name": "stdout",
     "output_type": "stream",
     "text": [
      "dimensiones de X_train: (90, 4)\n",
      "dimensiones de y_train: (90,)\n",
      "\n",
      "dimensiones de X_test:   (60, 4)\n",
      "dimensiones de y_test:   (60,)\n"
     ]
    }
   ],
   "source": [
    "print(f\"dimensiones de X_train: {X_train.shape}\")\n",
    "print(f\"dimensiones de y_train: {y_train.shape}\")\n",
    "print(\"\")\n",
    "print(f\"dimensiones de X_test:   {X_test.shape}\")\n",
    "print(f\"dimensiones de y_test:   {y_test.shape}\")"
   ]
  },
  {
   "cell_type": "markdown",
   "id": "1302aef2",
   "metadata": {},
   "source": [
    "#### Motivación\n",
    "\n",
    "La razón de utilizar dos conjuntos de datos separados para entrenar y evaluar el modelo es evitar el sobreajuste (**overfitting**) del modelo. El sobreajuste ocurre cuando un modelo se ajusta demasiado bien a los datos de entrenamiento y no generaliza bien a nuevos datos. Si se utilizan los mismos datos para entrenar y evaluar el modelo, es probable que el modelo tenga un buen rendimiento en los datos de entrenamiento pero un rendimiento pobre en datos nuevos.\n",
    "\n",
    "<img src=\"https://miro.medium.com/max/1125/1*_7OPgojau8hkiPUiHoGK_w.png\"  align=\"center\" width = \"700\"  />"
   ]
  },
  {
   "cell_type": "markdown",
   "id": "a615559b",
   "metadata": {},
   "source": [
    "#### Reglas de separación\n",
    "\n",
    "En general, se divide el conjunto de datos de entrada en dos conjuntos: el conjunto de entrenamiento y el conjunto de prueba. El conjunto de entrenamiento suele ser el 70-80% del conjunto de datos y el conjunto de prueba el 20-30%. La proporción puede variar según el tamaño del conjunto de datos y la complejidad del modelo.\n",
    "\n",
    "A modo de regla empírica, se considerará el tamaño óptimo basado en la siguiente tabla:\n",
    "\n",
    "| número de filas      | train set | test set |\n",
    "|----------------------|-----------|----------|\n",
    "| entre 100-1000       | 67%       | 33%      |\n",
    "| entre 1.000- 100.000 | 80%       | 20%      |\n",
    "| mayor a 100.000      | 99%       | 1%       |"
   ]
  },
  {
   "cell_type": "markdown",
   "id": "cbf28c71",
   "metadata": {},
   "source": [
    "#### Más información\n",
    "Es importante destacar que, en algunos casos, se utiliza un tercer conjunto de datos, llamado **conjunto de validación** (validation set), que se utiliza para ajustar los hiperparámetros del modelo y evitar el sobreajuste. En este caso, \n",
    "\n",
    "* el conjunto de entrenamiento se utiliza para ajustar los parámetros del modelo, \n",
    "* el conjunto de validación se utiliza para ajustar los hiperparámetros \n",
    "* y el conjunto de prueba se utiliza para evaluar el rendimiento final del modelo.\n",
    "\n",
    "<img src=\"https://algotrading101.com/learn/wp-content/uploads/2020/06/training-validation-test-data-set.png\" width = \"600\"  align=\"center\"  />"
   ]
  },
  {
   "cell_type": "markdown",
   "id": "b151125e",
   "metadata": {},
   "source": [
    "## Error de estimación\n",
    "\n",
    "El **error de estimación** se refiere a la diferencia entre el valor real de una variable y el valor estimado por un modelo. En el contexto de los modelos de aprendizaje automático, el error de estimación se refiere a la diferencia entre la variable objetivo (también conocida como variable dependiente o variable de respuesta) y la variable predicha por el modelo.\n",
    "\n",
    "El objetivo de los modelos de aprendizaje automático es **minimizar el error de estimación** y, por lo tanto, mejorar la precisión del modelo en la predicción de valores desconocidos. El error de estimación se puede calcular utilizando diferentes métricas según el tipo de modelo y el objetivo del análisis. \n",
    "\n",
    "\n",
    "Para medir el error de estimación en machine learning es necesario identificar el tipo de dato del **target**: **numéricos** o **categóricos**.\n",
    "\n",
    "<img src=\"https://images.ctfassets.net/dkgr2j75jrom/A6Xf1MfISZhiQWuyGFDpV/708d5fd82c14d8db6eb0d4af1c27d525/PillarPage-Qual-Quan-3.svg\" width = \"600\"  align=\"center\"  />"
   ]
  },
  {
   "cell_type": "markdown",
   "id": "f55665a7",
   "metadata": {},
   "source": [
    "### Error de estimación: Datos Numéricos\n",
    "\n",
    "En este caso, el **error de estimación** corresponde a la diferencia entre el valor original y el valor predicho,es decir:\n",
    "\n",
    "$$e_{i}=y_{i}-\\hat{y}_{i} $$\n",
    "\n",
    "\n",
    "<img src=\"https://raw.githubusercontent.com/fralfaro/MAT281_2022/main/docs/lectures/ml/analisis_supervisado_regresion/images/error.png\" width=\"480\" height=\"360\" align=\"rigt\"/>\n"
   ]
  },
  {
   "cell_type": "markdown",
   "id": "84f26e41",
   "metadata": {},
   "source": [
    "Veamos un ejemplo práctico:"
   ]
  },
  {
   "cell_type": "code",
   "execution_count": 6,
   "id": "19160343",
   "metadata": {},
   "outputs": [
    {
     "data": {
      "text/html": [
       "<div>\n",
       "<style scoped>\n",
       "    .dataframe tbody tr th:only-of-type {\n",
       "        vertical-align: middle;\n",
       "    }\n",
       "\n",
       "    .dataframe tbody tr th {\n",
       "        vertical-align: top;\n",
       "    }\n",
       "\n",
       "    .dataframe thead th {\n",
       "        text-align: right;\n",
       "    }\n",
       "</style>\n",
       "<table border=\"1\" class=\"dataframe\">\n",
       "  <thead>\n",
       "    <tr style=\"text-align: right;\">\n",
       "      <th></th>\n",
       "      <th>x</th>\n",
       "      <th>y</th>\n",
       "      <th>y_hat</th>\n",
       "    </tr>\n",
       "  </thead>\n",
       "  <tbody>\n",
       "    <tr>\n",
       "      <th>0</th>\n",
       "      <td>1</td>\n",
       "      <td>2</td>\n",
       "      <td>2.993428</td>\n",
       "    </tr>\n",
       "    <tr>\n",
       "      <th>1</th>\n",
       "      <td>2</td>\n",
       "      <td>4</td>\n",
       "      <td>3.723471</td>\n",
       "    </tr>\n",
       "    <tr>\n",
       "      <th>2</th>\n",
       "      <td>3</td>\n",
       "      <td>6</td>\n",
       "      <td>7.295377</td>\n",
       "    </tr>\n",
       "    <tr>\n",
       "      <th>3</th>\n",
       "      <td>4</td>\n",
       "      <td>8</td>\n",
       "      <td>11.046060</td>\n",
       "    </tr>\n",
       "    <tr>\n",
       "      <th>4</th>\n",
       "      <td>5</td>\n",
       "      <td>10</td>\n",
       "      <td>9.531693</td>\n",
       "    </tr>\n",
       "  </tbody>\n",
       "</table>\n",
       "</div>"
      ],
      "text/plain": [
       "   x   y      y_hat\n",
       "0  1   2   2.993428\n",
       "1  2   4   3.723471\n",
       "2  3   6   7.295377\n",
       "3  4   8  11.046060\n",
       "4  5  10   9.531693"
      ]
     },
     "execution_count": 6,
     "metadata": {},
     "output_type": "execute_result"
    }
   ],
   "source": [
    "# Importar las bibliotecas necesarias\n",
    "import pandas as pd\n",
    "import numpy as np\n",
    "\n",
    "import matplotlib.pyplot as plt\n",
    "import seaborn as sns\n",
    "\n",
    "# semilla\n",
    "np.random.seed(42)\n",
    "\n",
    "# Crear un conjunto de datos de ejemplo\n",
    "rng = np.random.RandomState(42)\n",
    "\n",
    "n = 50\n",
    "x = np.arange(n)+1\n",
    "y1 = 2*x  \n",
    "y2 = 2*x + 2*rng.randn(n)\n",
    "\n",
    "df = pd.DataFrame({\n",
    "    'x':x,\n",
    "    'y': y1,\n",
    "    'y_hat':y2\n",
    "})\n",
    "\n",
    "df.head()"
   ]
  },
  {
   "cell_type": "code",
   "execution_count": 7,
   "id": "76f669b3",
   "metadata": {},
   "outputs": [
    {
     "data": {
      "image/png": "[encoded data removed]",
      "text/plain": [
       "<Figure size 1200x400 with 1 Axes>"
      ]
     },
     "metadata": {},
     "output_type": "display_data"
    }
   ],
   "source": [
    "# visualizar resultados\n",
    "plt.rcParams[\"figure.figsize\"] = (12,4)\n",
    "plt.scatter(df['x'],df['y_hat'], color='red')\n",
    "plt.plot(df['x'],df['y']);"
   ]
  },
  {
   "cell_type": "markdown",
   "id": "75355948",
   "metadata": {},
   "source": [
    "Nuestra línea azul corresponde a los valores originales, mientras que los puntos rojos corresponde a los valores estimados. \n",
    "\n",
    "Veamos el error de estimación entre el valor original ($y$) y el valor estimado ($\\hat{y}$):"
   ]
  },
  {
   "cell_type": "code",
   "execution_count": 8,
   "id": "2f18d539",
   "metadata": {},
   "outputs": [
    {
     "data": {
      "text/plain": [
       "array([-0.99342831,  0.2765286 , -1.29537708, -3.04605971,  0.46830675,\n",
       "        0.46827391, -3.15842563, -1.53486946,  0.93894877, -1.08512009,\n",
       "        0.92683539,  0.93145951, -0.48392454,  3.82656049,  3.44983567,\n",
       "        1.12457506,  2.02566224, -0.62849467,  1.81604815,  2.8246074 ,\n",
       "       -2.93129754,  0.4515526 , -0.13505641,  2.84949637,  1.08876545,\n",
       "       -0.22184518,  2.30198715, -0.75139604,  1.20127738,  0.5833875 ,\n",
       "        1.20341322, -3.70455637,  0.02699445,  2.11542186, -1.64508982,\n",
       "        2.4416873 , -0.41772719,  3.91934025,  2.6563721 , -0.39372247,\n",
       "       -1.47693316, -0.34273656,  0.23129656,  0.60220739,  2.95704398,\n",
       "        1.43968842,  0.92127754, -2.11424445, -0.68723658,  3.52608031])"
      ]
     },
     "execution_count": 8,
     "metadata": {},
     "output_type": "execute_result"
    }
   ],
   "source": [
    "# error\n",
    "y_original = np.array(df['y'])\n",
    "y_estimado = np.array(df['y_hat'])\n",
    "\n",
    "error_estimacion = y_original-y_estimado\n",
    "error_estimacion"
   ]
  },
  {
   "cell_type": "markdown",
   "id": "db71ddcb",
   "metadata": {},
   "source": [
    "Este resultado nos da el **error de estimación** por cada muestra (o fila). Para encontrar un resultado que resuma el **error de estimación** utilizaremos **funciones de distancias** o **métricas de estimación**.\n",
    "\n",
    "\n",
    "1. **Métricas absolutas**: Las métricas absolutas o no escalada miden el error sin escalar los valores. Las métrica absolutas más ocupadas son:\n",
    "\n",
    "    *  **Mean Absolute Error** (MAE)\n",
    "\n",
    "    $$\\textrm{MAE}(y,\\hat{y}) = \\dfrac{1}{n}\\sum_{t=1}^{n}\\left | y_{t}-\\hat{y}_{t}\\right |$$\n",
    "\n",
    "    *  **Root Mean Squared Error** (RMSE):\n",
    "\n",
    "    $$\\textrm{RMSE}(y,\\hat{y}) =(\\dfrac{1}{n}\\sum_{t=1}^{n}\\left ( y_{t}-\\hat{y}_{t}\\right )^2)^{1/2}$$\n",
    "\n",
    "2. **Métricas Porcentuales**: Las métricas porcentuales o escaladas miden el error de manera escalada, es decir, se busca acotar el error entre valores de 0 a 1, donde 0 significa que el ajuste es perfecto, mientras que 1 sería un mal ajuste. Cabe destacar que muchas veces las métricas porcentuales puden tener valores mayores a 1.Las métrica Porcentuales más ocupadas son:\n",
    "\n",
    "    * **Mean absolute percentage error** (MAPE):\n",
    "    \n",
    "    $$\\textrm{MAPE}(y,\\hat{y}) = \\dfrac{1}{n}\\sum_{t=1}^{n}\\left | \\frac{y_{t}-\\hat{y}_{t}}{y_{t}} \\right |$$\n",
    "\n",
    "    \n",
    "Veamos un ejemplo práctico, las métricas de estimación  las podemos obtener desde `sklearn.metrics`:"
   ]
  },
  {
   "cell_type": "code",
   "execution_count": 9,
   "id": "9cc5cda0",
   "metadata": {},
   "outputs": [
    {
     "name": "stdout",
     "output_type": "stream",
     "text": [
      "mae:  1.5328\n",
      "rmse: 3.6206\n",
      "mape: 0.0586\n"
     ]
    }
   ],
   "source": [
    "from sklearn.metrics import mean_absolute_error, mean_squared_error, mean_absolute_percentage_error\n",
    "\n",
    "mae = mean_absolute_error(y_original,y_estimado)\n",
    "rmse = mean_squared_error(y_original,y_estimado)\n",
    "mape = mean_absolute_percentage_error(y_original,y_estimado)\n",
    "\n",
    "print(f\"mae:  {round(mae,4)}\")\n",
    "print(f\"rmse: {round(rmse,4)}\")\n",
    "print(f\"mape: {round(mape,4)}\")"
   ]
  },
  {
   "cell_type": "markdown",
   "id": "27cbf4dc",
   "metadata": {},
   "source": [
    "**¿ Cómo saber cuál es la mejor estimación entre dos estimaciones?**\n",
    "\n",
    "Supongamos que tenemos dos estimaciones $\\hat{y}_{1}$ y $\\hat{y}_{2}$, aquel que tenga un error de estimación más bajo en las **métricas de estimación** corresponderá al mejor modelo. \n",
    "\n",
    "Definamos una segunda estimación ($\\hat{y}_{2}$) y analicemos las métricas de estimación:"
   ]
  },
  {
   "cell_type": "code",
   "execution_count": 10,
   "id": "532a17d9",
   "metadata": {},
   "outputs": [
    {
     "name": "stdout",
     "output_type": "stream",
     "text": [
      "mae_2:  1.8174\n",
      "rmse_2: 4.7062\n",
      "mape_2: 0.0671\n"
     ]
    }
   ],
   "source": [
    "# definir otra estimacion\n",
    "y_estimado_2 = y_estimado+rng.randn(n)\n",
    "\n",
    "# error estimacion segunda estimacion\n",
    "mae_2 = mean_absolute_error(y_original,y_estimado_2)\n",
    "rmse_2 = mean_squared_error(y_original,y_estimado_2)\n",
    "mape_2 = mean_absolute_percentage_error(y_original,y_estimado_2)\n",
    "\n",
    "print(f\"mae_2:  {round(mae_2,4)}\")\n",
    "print(f\"rmse_2: {round(rmse_2,4)}\")\n",
    "print(f\"mape_2: {round(mape_2,4)}\")"
   ]
  },
  {
   "cell_type": "markdown",
   "id": "239beda2",
   "metadata": {},
   "source": [
    "Si tomamos en cuanta todas las métricas entre la primera estimación ($\\hat{y}_{1}$) y la segunda ($\\hat{y}_{2}$) observamos que:\n",
    "\n",
    "* $MAE_{1}<MAE_{2}$\n",
    "* $RMSE_{1}<RMSE_{2}$\n",
    "* $MAPE_{1}<MAPE_{2}$\n",
    "\n",
    "En este caso, todas las métricas de estimación para el primer caso son menores las métricas de estimación para el segundo caso, por lo tanto, la primera estimación ($\\hat{y}_{1}$) es mejor que la segunda ($\\hat{y}_{2}$).\n"
   ]
  },
  {
   "cell_type": "markdown",
   "id": "38d4f41c",
   "metadata": {},
   "source": [
    "### Error de estimación: Datos Categóricos\n",
    "\n",
    "Para entender el **error de estimación** es necesario entender algunos conceptos previamente, como lo es la **matriz de confusión**. Primero daremos un ejemplo intuitivo, los valores de $y$ corresponde a valores categóricos (**ejemplo**: alto y bajo). A menudo, estos valores se transforman números enteros  (**ejemplo**: alto = 1 y bajo=0). Trataremos de contar las veces que la estimación ($\\hat{y}$) coincide con el valor original ($y$).\n",
    "\n",
    "\n",
    "<img src=\"https://www.researchgate.net/publication/335080302/figure/fig1/AS:790214687600646@1565413271171/Classification-error-calculation.png\"  align=\"rigt\"/>\n",
    "\n",
    "\n",
    "Veamos un ejemplo prático en donde analizamos un problema de **clasificación binaria**, es decir, con solo dos categorías:"
   ]
  },
  {
   "cell_type": "code",
   "execution_count": 11,
   "id": "7cad9954",
   "metadata": {},
   "outputs": [
    {
     "data": {
      "text/html": [
       "<div>\n",
       "<style scoped>\n",
       "    .dataframe tbody tr th:only-of-type {\n",
       "        vertical-align: middle;\n",
       "    }\n",
       "\n",
       "    .dataframe tbody tr th {\n",
       "        vertical-align: top;\n",
       "    }\n",
       "\n",
       "    .dataframe thead th {\n",
       "        text-align: right;\n",
       "    }\n",
       "</style>\n",
       "<table border=\"1\" class=\"dataframe\">\n",
       "  <thead>\n",
       "    <tr style=\"text-align: right;\">\n",
       "      <th></th>\n",
       "      <th>y</th>\n",
       "      <th>y_estimado</th>\n",
       "      <th>coincidencia</th>\n",
       "    </tr>\n",
       "  </thead>\n",
       "  <tbody>\n",
       "    <tr>\n",
       "      <th>0</th>\n",
       "      <td>1</td>\n",
       "      <td>1</td>\n",
       "      <td>True</td>\n",
       "    </tr>\n",
       "    <tr>\n",
       "      <th>1</th>\n",
       "      <td>1</td>\n",
       "      <td>1</td>\n",
       "      <td>True</td>\n",
       "    </tr>\n",
       "    <tr>\n",
       "      <th>2</th>\n",
       "      <td>0</td>\n",
       "      <td>0</td>\n",
       "      <td>True</td>\n",
       "    </tr>\n",
       "    <tr>\n",
       "      <th>3</th>\n",
       "      <td>0</td>\n",
       "      <td>1</td>\n",
       "      <td>False</td>\n",
       "    </tr>\n",
       "    <tr>\n",
       "      <th>4</th>\n",
       "      <td>1</td>\n",
       "      <td>0</td>\n",
       "      <td>False</td>\n",
       "    </tr>\n",
       "  </tbody>\n",
       "</table>\n",
       "</div>"
      ],
      "text/plain": [
       "   y  y_estimado  coincidencia\n",
       "0  1           1          True\n",
       "1  1           1          True\n",
       "2  0           0          True\n",
       "3  0           1         False\n",
       "4  1           0         False"
      ]
     },
     "execution_count": 11,
     "metadata": {},
     "output_type": "execute_result"
    }
   ],
   "source": [
    "import numpy as np \n",
    "\n",
    "# semilla\n",
    "np.random.seed(1)\n",
    "\n",
    "\n",
    "y = np.random.randint(2, size=150)\n",
    "yhat = np.random.randint(2, size=150)\n",
    "\n",
    "df = pd.DataFrame({\n",
    "    'y':y,\n",
    "    'y_estimado':yhat\n",
    "})\n",
    "\n",
    "df['coincidencia'] = df['y']==df['y_estimado']\n",
    "\n",
    "df.head()"
   ]
  },
  {
   "cell_type": "markdown",
   "id": "2b077ec3",
   "metadata": {},
   "source": [
    "En este caso, la columna **coincidencia** corresponde los casos donde $y_{i}$ e $\\hat{y}_{i}$ son iguales:"
   ]
  },
  {
   "cell_type": "code",
   "execution_count": 12,
   "id": "1c1d51f9",
   "metadata": {},
   "outputs": [
    {
     "data": {
      "text/plain": [
       "True     88\n",
       "False    62\n",
       "Name: coincidencia, dtype: int64"
      ]
     },
     "execution_count": 12,
     "metadata": {},
     "output_type": "execute_result"
    }
   ],
   "source": [
    "# total de coincidencias\n",
    "df['coincidencia'].value_counts()"
   ]
  },
  {
   "cell_type": "markdown",
   "id": "57d0a79e",
   "metadata": {},
   "source": [
    "En este caso, sabemos que acertamos en **88** oportunidades, sin embargo, esto no nos da más detalles en que **clase** estamos acertando de mejor manera."
   ]
  },
  {
   "cell_type": "markdown",
   "id": "d218f0ee",
   "metadata": {},
   "source": [
    "**Matriz de confusión**\n",
    "\n",
    "La **matriz de confusión** es una herramienta que permite la visualización del desempeño de un algoritmo \n",
    "Para la clasificación binaria (por ejemplo, 0 y 1), se tiene la siguiente matriz de confusión:\n",
    "\n",
    "<img src=\"https://live.staticflickr.com/65535/48051372813_0e6a4a0806_b.jpg\"  align=\"center\"/>\n",
    "\n",
    "Acá se define:\n",
    "\n",
    "* **TP = Verdadero positivo**: el modelo predijo la clase positiva correctamente, para ser una clase positiva.\n",
    "* **FP = Falso positivo**: el modelo predijo la clase negativa incorrectamente, para ser una clase positiva.\n",
    "* **FN = Falso negativo**: el modelo predijo incorrectamente que la clase positiva sería la clase negativa.\n",
    "* **TN = Verdadero negativo**: el modelo predijo la clase negativa correctamente, para ser la clase negativa.\n",
    "\n",
    "En este contexto, los valores **TP** Y **TN** muestran los valores correctos que tuve al momento de realizar la predicción, mientras que los valores de de **FN** Y **FP** denotan los valores que me equivoque de clase.\n",
    "\n",
    "Los conceptos de **FN** y **FP** se pueden interpretar con la siguiente imagen:\n",
    "\n",
    "<img src=\"https://raw.githubusercontent.com/fralfaro/MAT281_2022/main/docs/lectures/ml/analisis_supervisado_clasificacion/images/error.jpg\" width=\"600\" height=\"360\" align=\"center\"/>\n",
    "\n",
    "Calculemos la matriz de confusión utilizando el comando `confusion_matrix`:"
   ]
  },
  {
   "cell_type": "code",
   "execution_count": 13,
   "id": "43e4988d",
   "metadata": {},
   "outputs": [
    {
     "name": "stdout",
     "output_type": "stream",
     "text": [
      "\n",
      "Matriz de confusion:\n",
      " \n",
      "[[42 26]\n",
      " [36 46]]\n"
     ]
    }
   ],
   "source": [
    "from sklearn.metrics import confusion_matrix\n",
    "\n",
    "cm =  confusion_matrix(df['y'],df['y_estimado'])\n",
    "\n",
    "print('\\nMatriz de confusion:\\n ')\n",
    "print(cm)"
   ]
  },
  {
   "cell_type": "markdown",
   "id": "c371663b",
   "metadata": {},
   "source": [
    "**Métricas de estimación**\n",
    "\n",
    "En este contexto, se busca maximizar el número al máximo la suma de los elementos **TP** Y **TN**, mientras que se busca disminuir la suma de los elementos de **FN** y **FP**. Para esto se definen las siguientes métricas:\n",
    "\n",
    "\n",
    "1. **Accuracy**\n",
    "\n",
    "$$accuracy(y,\\hat{y}) = \\dfrac{TP+TN}{TP+TN+FP+FN}$$\n",
    "\n",
    "2. **Recall**:\n",
    "\n",
    "$$recall(y,\\hat{y}) = \\dfrac{TP}{TP+FN}$$\n",
    "\n",
    "3. **Precision**:\n",
    "\n",
    "$$precision(y,\\hat{y}) = \\dfrac{TP}{TP+FP} $$\n",
    "\n",
    "4. **F-score**:\n",
    "\n",
    "$$fscore(y,\\hat{y}) = 2\\times \\dfrac{precision(y,\\hat{y})\\times recall(y,\\hat{y})}{precision(y,\\hat{y})+recall(y,\\hat{y})} $$\n",
    "\n",
    "\n",
    "Veamos un ejemplo práctico, las métricas de estimación  las podemos obtener desde `sklearn.metrics`:"
   ]
  },
  {
   "cell_type": "code",
   "execution_count": 14,
   "id": "30708de2",
   "metadata": {},
   "outputs": [
    {
     "name": "stdout",
     "output_type": "stream",
     "text": [
      "accuracy:  0.5867\n",
      "recall:    0.561\n",
      "precision: 0.6389\n",
      "fscore:    0.5974\n"
     ]
    }
   ],
   "source": [
    "from sklearn.metrics import accuracy_score, recall_score, precision_score, f1_score\n",
    "\n",
    "accuracy = accuracy_score(df['y'],df['y_estimado'])\n",
    "recall = recall_score(df['y'],df['y_estimado'])\n",
    "precision = precision_score(df['y'],df['y_estimado'])\n",
    "fscore = f1_score(df['y'],df['y_estimado'])\n",
    "\n",
    "print(f\"accuracy:  {round(accuracy,4)}\")\n",
    "print(f\"recall:    {round(recall,4)}\")\n",
    "print(f\"precision: {round(precision,4)}\")\n",
    "print(f\"fscore:    {round(fscore,4)}\")"
   ]
  },
  {
   "cell_type": "markdown",
   "id": "f2f99c4f",
   "metadata": {},
   "source": [
    "En este caso, todas lás métricas estan cercanos a un valor de **0.6** (bien lejos del valor **1** esperado/soñado), esto nos dice que la estimación para este caso no es la mejor. "
   ]
  },
  {
   "cell_type": "markdown",
   "id": "bca8ae17",
   "metadata": {},
   "source": [
    "**Curva ROC y AUC**\n",
    "\n",
    "<img src=\"https://polmartisanahuja.com/wp-content/uploads/2021/01/word-image.png\" width=\"600\" height=\"360\" align=\"center\"/>"
   ]
  },
  {
   "cell_type": "markdown",
   "id": "03ef5080",
   "metadata": {},
   "source": [
    "La **curva ROC** (Receiver Operating Characteristic) se utiliza para evaluar el rendimiento de los algoritmos de clasificación binaria, es decir, entre dos clases o categorías (1 o 0, Verdadero o Falso, etc.). La curva ROC proporciona una representación gráfica, en lugar de un valor único como la mayoría de las otras métricas.\n",
    "\n",
    "Antes de todo, aclaremos que en la clasificación binaria, hay cuatro resultados posibles para una predicción: **Verdadero positivo (TP), Falso positivo (FP), Verdadero negativo (TN) y Falso negativo (FN)**.\n",
    "\n",
    "<img src=\"https://polmartisanahuja.com/wp-content/uploads/2021/01/image-for-post-10-e1610536842121.png\" width=\"600\" height=\"360\" align=\"center\"/>"
   ]
  },
  {
   "cell_type": "markdown",
   "id": "4d2e4d64",
   "metadata": {},
   "source": [
    "La curva ROC se genera calculando y trazando la **tasa de verdaderos positivos (TPR)** contra la tasa de **falsos positivos (FPR)** para un solo clasificador en una variedad de umbrales (en el siguiente párrafo se definen matemáticamente ambas tasas). Por ejemplo, en un modelo de regresión logística, el umbral sería sobre la probabilidad predicha de una observación perteneciente a la clase positiva. Normalmente, en la regresión logística, si se predice que una observación será positiva con una probabilidad mayor que 0.5, se etiqueta como positiva. Sin embargo, realmente podríamos elegir cualquier umbral entre 0 y 1 (0.1, 0.3, 0.6, 0.99, etc.), y, de este modo, la curva ROC nos ayudaría a visualizar cómo estas elecciones afectan al rendimiento del clasificador.\n",
    "\n",
    "La **tasa de verdaderos positivos (TPR)**, o **Sensibilidad**, se define como:\n",
    "\n",
    "$$TPR= \\dfrac{TP}{TP+FN}$$\n",
    "\n",
    "donde **TP** es el número de Verdaderos positivos y **FN** es el número de Falsos negativos. La tasa de verdaderos positivos es una medida de la probabilidad de que una instancia positiva real se clasifique como positiva.\n",
    "\n",
    "La **tasa de falsos positivos (FPR)**, o **1 – Especificidad**, se define como:\n",
    "\n",
    "$$FPR= \\dfrac{FP}{FP+TN}$$\n",
    "\n",
    "donde **FP** es el número de Falsos positivos y **TN** es el número de Verdaderos negativos. La tasa de falsos positivos es esencialmente una medida de la frecuencia con la que se producirá una «falsa alarma», o la frecuencia con la que una instancia negativa real se clasificará como positiva.\n",
    "\n",
    "En la siguiente figura se muestra como sería la curva ROC para tres hipotéticos clasificadores distintos.\n",
    "\n",
    "<img src=\"https://polmartisanahuja.com/wp-content/uploads/2021/01/image-for-post-13-e1610536964827.png\" width=\"600\" height=\"360\" align=\"center\"/>\n",
    "\n",
    "La línea de puntos gris representa un clasificador aleatorio (equivalente a «adivinar al azar»); su curva ROC consiste en una línea recta diagonal de pendiente 1. Opuestamente, la línea violeta representa un clasificador perfecto, es decir, que no comete ningún error (uno con una tasa de verdaderos positivos del 100% y una tasa de falsos positivos del 0%).\n",
    "\n",
    "Casi todos los ejemplos del mundo real se ubicarán en algún lugar entre estas dos líneas; no es perfecto, pero proporciona más poder de predicción que la suposición aleatoria. Por lo general, lo que buscamos es un clasificador que mantenga una alta tasa de verdaderos positivos y al mismo tiempo tenga una baja tasa de falsos positivos; este clasificador ideal tendería a pasar muy próximo a la esquina superior izquierda de la figura anterior, casi rozando a la línea púrpura."
   ]
  },
  {
   "cell_type": "markdown",
   "id": "0db4d98d",
   "metadata": {},
   "source": [
    "**El AUC**\n",
    "\n",
    "Si bien es útil visualizar la curva ROC de un clasificador binario, en muchos casos podemos resumir esta información en una sola métrica: el **AUC**. El **AUC** significa **área bajo la curva (ROC)** en inglés. Generalmente, cuanto mayor es la puntuación AUC, mejor es el rendimiento de un clasificador binario para una tarea de clasificación dada.\n",
    "\n",
    "La siguiente figura muestra que para un clasificador sin poder predictivo (es decir, de predicción aleatoria), el AUC es 0.5, y para un clasificador perfecto, el AUC es 1.0; esto es el área bajo sus correspondientes curvas ROC.\n",
    "\n",
    "<img src=\"https://polmartisanahuja.com/wp-content/uploads/2021/01/word-image-1-e1610537035631.png\" width=\"600\" height=\"360\" align=\"center\"/>\n",
    "\n",
    "La mayoría de los clasificadores estarán entre 0.5 y 1.0, con la rara excepción de que el clasificador funcione peor que la predicción aleatoria (AUC<0.5); en este caso se estarían efectuando predicciones invertidas, es decir, se tendería a predecir la clase negativa cuando esta fuera realmente positiva y viceversa."
   ]
  },
  {
   "cell_type": "markdown",
   "id": "2944be80",
   "metadata": {},
   "source": [
    "**¿Por qué usar las curvas ROC?**\n",
    "\n",
    "* Una ventaja que presentan las curvas ROC es que nos ayudan a encontrar un umbral de clasificación que se adapte a nuestro problema específico.\n",
    "\n",
    "    * **Ejemplo**: si estuviéramos evaluando un clasificador de correo no deseado, querríamos que la tasa de falsos positivos fuera realmente baja. No queríamos que nadie perdiera un correo electrónico importante en el filtro de spam solo porque nuestro algoritmo es demasiado agresivo. Probablemente, incluso permitiríamos una buena cantidad de correos electrónicos no deseados reales (verdaderos positivos) a través del filtro solo para asegurarnos de que no se perdieran correos electrónicos importantes.\n",
    "\n",
    "    * **Ejemplo**: si nuestro clasificador estuviera prediciendo si alguien tiene una enfermedad terminal, podríamos estar de acuerdo con un mayor número de falsos positivos (diagnósticos incorrectos de la enfermedad), solo para asegurarnos de que no perdamos ningún positivo verdadero (personas que realmente tienen la enfermedad)."
   ]
  },
  {
   "cell_type": "markdown",
   "id": "1c47f0a8",
   "metadata": {},
   "source": [
    "* Además, las curvas ROC y las puntuaciones AUC también nos permiten comparar el rendimiento de diferentes clasificadores para el mismo problema y así poder elegir el de mayor rendimiento."
   ]
  },
  {
   "cell_type": "markdown",
   "id": "8f81b818",
   "metadata": {},
   "source": [
    "Continuando con el ejemplo anterior:\n"
   ]
  },
  {
   "cell_type": "code",
   "execution_count": 15,
   "id": "714004f2",
   "metadata": {},
   "outputs": [],
   "source": [
    "from sklearn.metrics import roc_curve, auc"
   ]
  },
  {
   "cell_type": "code",
   "execution_count": 16,
   "id": "92d181f3",
   "metadata": {},
   "outputs": [],
   "source": [
    "# Calcular la curva ROC y el AUC\n",
    "fpr, tpr, thresholds = roc_curve(df['y'],df['y_estimado'])\n",
    "roc_auc = auc(fpr, tpr)"
   ]
  },
  {
   "cell_type": "code",
   "execution_count": 17,
   "id": "d746e50b",
   "metadata": {},
   "outputs": [
    {
     "data": {
      "image/png": "[encoded data removed]",
      "text/plain": [
       "<Figure size 500x500 with 1 Axes>"
      ]
     },
     "metadata": {},
     "output_type": "display_data"
    }
   ],
   "source": [
    "# Graficar la curva ROC\n",
    "plt.figure(figsize=(5,5))\n",
    "plt.plot(fpr, tpr, label='Curva ROC (AUC = %0.2f)' % roc_auc)\n",
    "plt.plot([0, 1], [0, 1], 'k--')  # Línea de referencia para un clasificador aleatorio\n",
    "plt.xlim([0.0, 1.0])\n",
    "plt.ylim([0.0, 1.00])\n",
    "plt.xlabel('Tasa de Falsos Positivos')\n",
    "plt.ylabel('Tasa de Verdaderos Positivos')\n",
    "plt.title('Curva ROC')\n",
    "plt.legend(loc=\"lower right\")\n",
    "plt.show()"
   ]
  }
 ],
 "metadata": {
  "kernelspec": {
   "display_name": "Python 3 (ipykernel)",
   "language": "python",
   "name": "python3"
  },
  "language_info": {
   "codemirror_mode": {
    "name": "ipython",
    "version": 3
   },
   "file_extension": ".py",
   "mimetype": "text/x-python",
   "name": "python",
   "nbconvert_exporter": "python",
   "pygments_lexer": "ipython3",
   "version": "3.8.10"
  }
 },
 "nbformat": 4,
 "nbformat_minor": 5
}
